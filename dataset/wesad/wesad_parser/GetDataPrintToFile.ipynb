{
  "nbformat": 4,
  "nbformat_minor": 0,
  "metadata": {
    "colab": {
      "provenance": []
    },
    "kernelspec": {
      "name": "python3",
      "display_name": "Python 3"
    },
    "language_info": {
      "name": "python"
    }
  },
  "cells": [
    {
      "cell_type": "code",
      "execution_count": 1,
      "metadata": {
        "colab": {
          "base_uri": "https://localhost:8080/"
        },
        "id": "43ixfPezX4uI",
        "outputId": "5bb7ef6b-895d-4ef4-e5aa-0f0be1ca618c"
      },
      "outputs": [
        {
          "output_type": "stream",
          "name": "stdout",
          "text": [
            "Archive:  wesadcode.zip\n",
            "  inflating: code.py                 \n",
            "  inflating: __init__.py             \n",
            "  inflating: read_quest.py           \n",
            "  inflating: read_respiban.py        \n",
            "  inflating: requirements.txt        \n",
            "  inflating: test.csv                \n",
            "  inflating: train_model.py          \n"
          ]
        }
      ],
      "source": [
        "!unzip wesadcode.zip"
      ]
    },
    {
      "cell_type": "code",
      "source": [
        "!wget https://uni-siegen.sciebo.de/s/HGdUkoNlW1Ub0Gx/download\n",
        "!mv download wesad.zip\n",
        "!unzip wesad.zip"
      ],
      "metadata": {
        "colab": {
          "base_uri": "https://localhost:8080/"
        },
        "id": "8L10cY3TYB5Q",
        "outputId": "56b2175d-9742-46b6-eb07-2611aab65ded"
      },
      "execution_count": 2,
      "outputs": [
        {
          "output_type": "stream",
          "name": "stdout",
          "text": [
            "--2023-12-02 06:54:01--  https://uni-siegen.sciebo.de/s/HGdUkoNlW1Ub0Gx/download\n",
            "Resolving uni-siegen.sciebo.de (uni-siegen.sciebo.de)... 128.176.1.2\n",
            "Connecting to uni-siegen.sciebo.de (uni-siegen.sciebo.de)|128.176.1.2|:443... connected.\n",
            "HTTP request sent, awaiting response... 200 OK\n",
            "Length: 2249444501 (2.1G) [application/zip]\n",
            "Saving to: ‘download’\n",
            "\n",
            "download            100%[===================>]   2.09G  32.9MB/s    in 67s     \n",
            "\n",
            "2023-12-02 06:55:09 (32.0 MB/s) - ‘download’ saved [2249444501/2249444501]\n",
            "\n",
            "Archive:  wesad.zip\n",
            "   creating: WESAD/\n",
            "   creating: WESAD/S10/\n",
            "  inflating: WESAD/S10/S10.pkl       \n",
            "  inflating: WESAD/S10/S10_E4_Data.zip  \n",
            "  inflating: WESAD/S10/S10_quest.csv  \n",
            "  inflating: WESAD/S10/S10_readme.txt  \n",
            "  inflating: WESAD/S10/S10_respiban.txt  \n",
            "   creating: WESAD/S11/\n",
            "  inflating: WESAD/S11/S11.pkl       \n",
            "  inflating: WESAD/S11/S11_E4_Data.zip  \n",
            "  inflating: WESAD/S11/S11_quest.csv  \n",
            "  inflating: WESAD/S11/S11_readme.txt  \n",
            "  inflating: WESAD/S11/S11_respiban.txt  \n",
            "   creating: WESAD/S13/\n",
            "  inflating: WESAD/S13/S13.pkl       \n",
            "  inflating: WESAD/S13/S13_E4_Data.zip  \n",
            "  inflating: WESAD/S13/S13_quest.csv  \n",
            "  inflating: WESAD/S13/S13_readme.txt  \n",
            "  inflating: WESAD/S13/S13_respiban.txt  \n",
            "   creating: WESAD/S14/\n",
            "  inflating: WESAD/S14/S14.pkl       \n",
            "  inflating: WESAD/S14/S14_E4_Data.zip  \n",
            "  inflating: WESAD/S14/S14_quest.csv  \n",
            "  inflating: WESAD/S14/S14_readme.txt  \n",
            "  inflating: WESAD/S14/S14_respiban.txt  \n",
            "   creating: WESAD/S15/\n",
            "  inflating: WESAD/S15/S15.pkl       \n",
            "  inflating: WESAD/S15/S15_E4_Data.zip  \n",
            "  inflating: WESAD/S15/S15_quest.csv  \n",
            "  inflating: WESAD/S15/S15_readme.txt  \n",
            "  inflating: WESAD/S15/S15_respiban.txt  \n",
            "   creating: WESAD/S16/\n",
            "  inflating: WESAD/S16/S16.pkl       \n",
            "  inflating: WESAD/S16/S16_E4_Data.zip  \n",
            "  inflating: WESAD/S16/S16_quest.csv  \n",
            "  inflating: WESAD/S16/S16_readme.txt  \n",
            "  inflating: WESAD/S16/S16_respiban.txt  \n",
            "   creating: WESAD/S17/\n",
            "  inflating: WESAD/S17/S17.pkl       \n",
            "  inflating: WESAD/S17/S17_E4_Data.zip  \n",
            "  inflating: WESAD/S17/S17_quest.csv  \n",
            "  inflating: WESAD/S17/S17_readme.txt  \n",
            "  inflating: WESAD/S17/S17_respiban.txt  \n",
            "   creating: WESAD/S2/\n",
            "  inflating: WESAD/S2/S2.pkl         \n",
            "  inflating: WESAD/S2/S2_E4_Data.zip  \n",
            "  inflating: WESAD/S2/S2_quest.csv   \n",
            "  inflating: WESAD/S2/S2_readme.txt  \n",
            "  inflating: WESAD/S2/S2_respiban.txt  \n",
            "   creating: WESAD/S3/\n",
            "  inflating: WESAD/S3/S3.pkl         \n",
            "  inflating: WESAD/S3/S3_E4_Data.zip  \n",
            "  inflating: WESAD/S3/S3_quest.csv   \n",
            "  inflating: WESAD/S3/S3_readme.txt  \n",
            "  inflating: WESAD/S3/S3_respiban.txt  \n",
            "   creating: WESAD/S4/\n",
            "  inflating: WESAD/S4/S4.pkl         \n",
            "  inflating: WESAD/S4/S4_E4_Data.zip  \n",
            "  inflating: WESAD/S4/S4_quest.csv   \n",
            "  inflating: WESAD/S4/S4_readme.txt  \n",
            "  inflating: WESAD/S4/S4_respiban.txt  \n",
            "   creating: WESAD/S5/\n",
            "  inflating: WESAD/S5/S5.pkl         \n",
            "  inflating: WESAD/S5/S5_E4_Data.zip  \n",
            "  inflating: WESAD/S5/S5_quest.csv   \n",
            "  inflating: WESAD/S5/S5_readme.txt  \n",
            "  inflating: WESAD/S5/S5_respiban.txt  \n",
            "   creating: WESAD/S6/\n",
            "  inflating: WESAD/S6/S6.pkl         \n",
            "  inflating: WESAD/S6/S6_E4_Data.zip  \n",
            "  inflating: WESAD/S6/S6_quest.csv   \n",
            "  inflating: WESAD/S6/S6_readme.txt  \n",
            "  inflating: WESAD/S6/S6_respiban.txt  \n",
            "   creating: WESAD/S7/\n",
            "  inflating: WESAD/S7/S7.pkl         \n",
            "  inflating: WESAD/S7/S7_E4_Data.zip  \n",
            "  inflating: WESAD/S7/S7_quest.csv   \n",
            "  inflating: WESAD/S7/S7_readme.txt  \n",
            "  inflating: WESAD/S7/S7_respiban.txt  \n",
            "   creating: WESAD/S8/\n",
            "  inflating: WESAD/S8/S8.pkl         \n",
            "  inflating: WESAD/S8/S8_E4_Data.zip  \n",
            "  inflating: WESAD/S8/S8_quest.csv   \n",
            "  inflating: WESAD/S8/S8_readme.txt  \n",
            "  inflating: WESAD/S8/S8_respiban.txt  \n",
            "   creating: WESAD/S9/\n",
            "  inflating: WESAD/S9/S9.pkl         \n",
            "  inflating: WESAD/S9/S9_E4_Data.zip  \n",
            "  inflating: WESAD/S9/S9_quest.csv   \n",
            "  inflating: WESAD/S9/S9_readme.txt  \n",
            "  inflating: WESAD/S9/S9_respiban.txt  \n",
            "  inflating: WESAD/wesad_readme.pdf  \n"
          ]
        }
      ]
    },
    {
      "cell_type": "code",
      "source": [
        "!python train_model.py"
      ],
      "metadata": {
        "id": "V8HJhhYUYzqA"
      },
      "execution_count": 4,
      "outputs": []
    },
    {
      "cell_type": "code",
      "source": [
        "!zip -r data.zip data*.csv"
      ],
      "metadata": {
        "colab": {
          "base_uri": "https://localhost:8080/"
        },
        "id": "oaKQIEX0XnAF",
        "outputId": "4350fe1c-8918-4347-df7c-0a927177af84"
      },
      "execution_count": 5,
      "outputs": [
        {
          "output_type": "stream",
          "name": "stdout",
          "text": [
            "  adding: data_S10.csv (deflated 85%)\n",
            "  adding: data_S11.csv (deflated 83%)\n",
            "  adding: data_S13.csv (deflated 83%)\n",
            "  adding: data_S14.csv (deflated 87%)\n",
            "  adding: data_S15.csv (deflated 82%)\n",
            "  adding: data_S16.csv (deflated 82%)\n",
            "  adding: data_S17.csv (deflated 83%)\n",
            "  adding: data_S2.csv (deflated 80%)\n",
            "  adding: data_S3.csv (deflated 79%)\n",
            "  adding: data_S4.csv (deflated 84%)\n",
            "  adding: data_S5.csv (deflated 78%)\n",
            "  adding: data_S6.csv (deflated 78%)\n",
            "  adding: data_S7.csv (deflated 78%)\n",
            "  adding: data_S8.csv (deflated 85%)\n",
            "  adding: data_S9.csv (deflated 82%)\n"
          ]
        }
      ]
    },
    {
      "cell_type": "code",
      "source": [],
      "metadata": {
        "id": "_ffc0r80Yfg8"
      },
      "execution_count": null,
      "outputs": []
    }
  ]
}