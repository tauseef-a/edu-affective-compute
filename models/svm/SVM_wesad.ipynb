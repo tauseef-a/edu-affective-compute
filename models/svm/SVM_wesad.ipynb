{
 "cells": [
  {
   "cell_type": "code",
   "execution_count": null,
   "metadata": {
    "colab": {
     "base_uri": "https://localhost:8080/"
    },
    "id": "43ixfPezX4uI",
    "outputId": "5bb7ef6b-895d-4ef4-e5aa-0f0be1ca618c"
   },
   "outputs": [
    {
     "name": "stdout",
     "output_type": "stream",
     "text": [
      "Archive:  wesadcode.zip\n",
      "  inflating: code.py                 \n",
      "  inflating: __init__.py             \n",
      "  inflating: read_quest.py           \n",
      "  inflating: read_respiban.py        \n",
      "  inflating: requirements.txt        \n",
      "  inflating: test.csv                \n",
      "  inflating: train_model.py          \n"
     ]
    }
   ],
   "source": [
    "!unzip wesadcode.zip"
   ]
  },
  {
   "cell_type": "code",
   "execution_count": null,
   "metadata": {
    "colab": {
     "base_uri": "https://localhost:8080/"
    },
    "id": "8L10cY3TYB5Q",
    "outputId": "56b2175d-9742-46b6-eb07-2611aab65ded"
   },
   "outputs": [
    {
     "name": "stdout",
     "output_type": "stream",
     "text": [
      "--2023-12-02 06:54:01--  https://uni-siegen.sciebo.de/s/HGdUkoNlW1Ub0Gx/download\n",
      "Resolving uni-siegen.sciebo.de (uni-siegen.sciebo.de)... 128.176.1.2\n",
      "Connecting to uni-siegen.sciebo.de (uni-siegen.sciebo.de)|128.176.1.2|:443... connected.\n",
      "HTTP request sent, awaiting response... 200 OK\n",
      "Length: 2249444501 (2.1G) [application/zip]\n",
      "Saving to: ‘download’\n",
      "\n",
      "download            100%[===================>]   2.09G  32.9MB/s    in 67s     \n",
      "\n",
      "2023-12-02 06:55:09 (32.0 MB/s) - ‘download’ saved [2249444501/2249444501]\n",
      "\n",
      "Archive:  wesad.zip\n",
      "   creating: WESAD/\n",
      "   creating: WESAD/S10/\n",
      "  inflating: WESAD/S10/S10.pkl       \n",
      "  inflating: WESAD/S10/S10_E4_Data.zip  \n",
      "  inflating: WESAD/S10/S10_quest.csv  \n",
      "  inflating: WESAD/S10/S10_readme.txt  \n",
      "  inflating: WESAD/S10/S10_respiban.txt  \n",
      "   creating: WESAD/S11/\n",
      "  inflating: WESAD/S11/S11.pkl       \n",
      "  inflating: WESAD/S11/S11_E4_Data.zip  \n",
      "  inflating: WESAD/S11/S11_quest.csv  \n",
      "  inflating: WESAD/S11/S11_readme.txt  \n",
      "  inflating: WESAD/S11/S11_respiban.txt  \n",
      "   creating: WESAD/S13/\n",
      "  inflating: WESAD/S13/S13.pkl       \n",
      "  inflating: WESAD/S13/S13_E4_Data.zip  \n",
      "  inflating: WESAD/S13/S13_quest.csv  \n",
      "  inflating: WESAD/S13/S13_readme.txt  \n",
      "  inflating: WESAD/S13/S13_respiban.txt  \n",
      "   creating: WESAD/S14/\n",
      "  inflating: WESAD/S14/S14.pkl       \n",
      "  inflating: WESAD/S14/S14_E4_Data.zip  \n",
      "  inflating: WESAD/S14/S14_quest.csv  \n",
      "  inflating: WESAD/S14/S14_readme.txt  \n",
      "  inflating: WESAD/S14/S14_respiban.txt  \n",
      "   creating: WESAD/S15/\n",
      "  inflating: WESAD/S15/S15.pkl       \n",
      "  inflating: WESAD/S15/S15_E4_Data.zip  \n",
      "  inflating: WESAD/S15/S15_quest.csv  \n",
      "  inflating: WESAD/S15/S15_readme.txt  \n",
      "  inflating: WESAD/S15/S15_respiban.txt  \n",
      "   creating: WESAD/S16/\n",
      "  inflating: WESAD/S16/S16.pkl       \n",
      "  inflating: WESAD/S16/S16_E4_Data.zip  \n",
      "  inflating: WESAD/S16/S16_quest.csv  \n",
      "  inflating: WESAD/S16/S16_readme.txt  \n",
      "  inflating: WESAD/S16/S16_respiban.txt  \n",
      "   creating: WESAD/S17/\n",
      "  inflating: WESAD/S17/S17.pkl       \n",
      "  inflating: WESAD/S17/S17_E4_Data.zip  \n",
      "  inflating: WESAD/S17/S17_quest.csv  \n",
      "  inflating: WESAD/S17/S17_readme.txt  \n",
      "  inflating: WESAD/S17/S17_respiban.txt  \n",
      "   creating: WESAD/S2/\n",
      "  inflating: WESAD/S2/S2.pkl         \n",
      "  inflating: WESAD/S2/S2_E4_Data.zip  \n",
      "  inflating: WESAD/S2/S2_quest.csv   \n",
      "  inflating: WESAD/S2/S2_readme.txt  \n",
      "  inflating: WESAD/S2/S2_respiban.txt  \n",
      "   creating: WESAD/S3/\n",
      "  inflating: WESAD/S3/S3.pkl         \n",
      "  inflating: WESAD/S3/S3_E4_Data.zip  \n",
      "  inflating: WESAD/S3/S3_quest.csv   \n",
      "  inflating: WESAD/S3/S3_readme.txt  \n",
      "  inflating: WESAD/S3/S3_respiban.txt  \n",
      "   creating: WESAD/S4/\n",
      "  inflating: WESAD/S4/S4.pkl         \n",
      "  inflating: WESAD/S4/S4_E4_Data.zip  \n",
      "  inflating: WESAD/S4/S4_quest.csv   \n",
      "  inflating: WESAD/S4/S4_readme.txt  \n",
      "  inflating: WESAD/S4/S4_respiban.txt  \n",
      "   creating: WESAD/S5/\n",
      "  inflating: WESAD/S5/S5.pkl         \n",
      "  inflating: WESAD/S5/S5_E4_Data.zip  \n",
      "  inflating: WESAD/S5/S5_quest.csv   \n",
      "  inflating: WESAD/S5/S5_readme.txt  \n",
      "  inflating: WESAD/S5/S5_respiban.txt  \n",
      "   creating: WESAD/S6/\n",
      "  inflating: WESAD/S6/S6.pkl         \n",
      "  inflating: WESAD/S6/S6_E4_Data.zip  \n",
      "  inflating: WESAD/S6/S6_quest.csv   \n",
      "  inflating: WESAD/S6/S6_readme.txt  \n",
      "  inflating: WESAD/S6/S6_respiban.txt  \n",
      "   creating: WESAD/S7/\n",
      "  inflating: WESAD/S7/S7.pkl         \n",
      "  inflating: WESAD/S7/S7_E4_Data.zip  \n",
      "  inflating: WESAD/S7/S7_quest.csv   \n",
      "  inflating: WESAD/S7/S7_readme.txt  \n",
      "  inflating: WESAD/S7/S7_respiban.txt  \n",
      "   creating: WESAD/S8/\n",
      "  inflating: WESAD/S8/S8.pkl         \n",
      "  inflating: WESAD/S8/S8_E4_Data.zip  \n",
      "  inflating: WESAD/S8/S8_quest.csv   \n",
      "  inflating: WESAD/S8/S8_readme.txt  \n",
      "  inflating: WESAD/S8/S8_respiban.txt  \n",
      "   creating: WESAD/S9/\n",
      "  inflating: WESAD/S9/S9.pkl         \n",
      "  inflating: WESAD/S9/S9_E4_Data.zip  \n",
      "  inflating: WESAD/S9/S9_quest.csv   \n",
      "  inflating: WESAD/S9/S9_readme.txt  \n",
      "  inflating: WESAD/S9/S9_respiban.txt  \n",
      "  inflating: WESAD/wesad_readme.pdf  \n"
     ]
    }
   ],
   "source": [
    "!wget https://uni-siegen.sciebo.de/s/HGdUkoNlW1Ub0Gx/download\n",
    "!mv download wesad.zip\n",
    "!unzip wesad.zip"
   ]
  },
  {
   "cell_type": "code",
   "execution_count": null,
   "metadata": {
    "id": "V8HJhhYUYzqA"
   },
   "outputs": [],
   "source": [
    "!python train_model.py"
   ]
  },
  {
   "cell_type": "code",
   "execution_count": null,
   "metadata": {
    "colab": {
     "base_uri": "https://localhost:8080/"
    },
    "id": "oaKQIEX0XnAF",
    "outputId": "4350fe1c-8918-4347-df7c-0a927177af84"
   },
   "outputs": [
    {
     "name": "stdout",
     "output_type": "stream",
     "text": [
      "  adding: data_S10.csv (deflated 85%)\n",
      "  adding: data_S11.csv (deflated 83%)\n",
      "  adding: data_S13.csv (deflated 83%)\n",
      "  adding: data_S14.csv (deflated 87%)\n",
      "  adding: data_S15.csv (deflated 82%)\n",
      "  adding: data_S16.csv (deflated 82%)\n",
      "  adding: data_S17.csv (deflated 83%)\n",
      "  adding: data_S2.csv (deflated 80%)\n",
      "  adding: data_S3.csv (deflated 79%)\n",
      "  adding: data_S4.csv (deflated 84%)\n",
      "  adding: data_S5.csv (deflated 78%)\n",
      "  adding: data_S6.csv (deflated 78%)\n",
      "  adding: data_S7.csv (deflated 78%)\n",
      "  adding: data_S8.csv (deflated 85%)\n",
      "  adding: data_S9.csv (deflated 82%)\n"
     ]
    }
   ],
   "source": [
    "!zip -r data.zip data*.csv"
   ]
  },
  {
   "cell_type": "code",
   "execution_count": 1,
   "metadata": {
    "colab": {
     "base_uri": "https://localhost:8080/"
    },
    "execution": {
     "iopub.execute_input": "2023-12-02T18:45:45.884824Z",
     "iopub.status.busy": "2023-12-02T18:45:45.883994Z",
     "iopub.status.idle": "2023-12-02T18:45:46.529509Z",
     "shell.execute_reply": "2023-12-02T18:45:46.528945Z",
     "shell.execute_reply.started": "2023-12-02T18:45:45.884791Z"
    },
    "id": "_ffc0r80Yfg8",
    "outputId": "e5401eec-8f66-4261-b15b-d194ad85e20d"
   },
   "outputs": [
    {
     "name": "stdout",
     "output_type": "stream",
     "text": [
      "Archive:  data.zip\n",
      "  inflating: data_S10.csv            \n",
      "  inflating: data_S11.csv            \n",
      "  inflating: data_S13.csv            \n",
      "  inflating: data_S14.csv            \n",
      "  inflating: data_S15.csv            \n",
      "  inflating: data_S16.csv            \n",
      "  inflating: data_S17.csv            \n",
      "  inflating: data_S2.csv             \n",
      "  inflating: data_S3.csv             \n",
      "  inflating: data_S4.csv             \n",
      "  inflating: data_S5.csv             \n",
      "  inflating: data_S6.csv             \n",
      "  inflating: data_S7.csv             \n",
      "  inflating: data_S8.csv             \n",
      "  inflating: data_S9.csv             \n"
     ]
    }
   ],
   "source": [
    "!unzip data.zip"
   ]
  },
  {
   "cell_type": "code",
   "execution_count": 1,
   "metadata": {
    "execution": {
     "iopub.execute_input": "2023-12-02T18:51:31.822501Z",
     "iopub.status.busy": "2023-12-02T18:51:31.822253Z",
     "iopub.status.idle": "2023-12-02T18:51:32.194177Z",
     "shell.execute_reply": "2023-12-02T18:51:32.193550Z",
     "shell.execute_reply.started": "2023-12-02T18:51:31.822482Z"
    },
    "id": "GuLnPlL-l2ir"
   },
   "outputs": [],
   "source": [
    "from numpy import genfromtxt\n",
    "import numpy as np\n",
    "\n",
    "\n",
    "files_list = [\n",
    "    'data_S10.csv',\n",
    "    'data_S14.csv',\n",
    "    'data_S17.csv',\n",
    "    'data_S4.csv',\n",
    "    'data_S7.csv',\n",
    "    'data_S11.csv',\n",
    "    'data_S15.csv',\n",
    "    'data_S2.csv',\n",
    "    'data_S5.csv',\n",
    "    'data_S8.csv',\n",
    "    'data_S13.csv',\n",
    "    'data_S16.csv',\n",
    "    'data_S3.csv',\n",
    "    'data_S6.csv',\n",
    "    'data_S9.csv'\n",
    "]\n",
    "\n",
    "file_list_num = np.arange(len(files_list))\n",
    "data_db = {}\n",
    "for fil in files_list:\n",
    "  my_data = genfromtxt(fil, delimiter=',', dtype=None, encoding=\"utf8\")\n",
    "  data_gsr = [d[0] for d in my_data]\n",
    "  data_label = [d[1] for d in my_data]\n",
    "  data_db[fil] = [data_gsr,data_label]\n",
    "\n",
    "\n"
   ]
  },
  {
   "cell_type": "code",
   "execution_count": 3,
   "metadata": {
    "colab": {
     "base_uri": "https://localhost:8080/"
    },
    "execution": {
     "iopub.execute_input": "2023-12-02T18:55:00.783638Z",
     "iopub.status.busy": "2023-12-02T18:55:00.782962Z",
     "iopub.status.idle": "2023-12-02T19:03:57.809928Z",
     "shell.execute_reply": "2023-12-02T19:03:57.809274Z",
     "shell.execute_reply.started": "2023-12-02T18:55:00.783613Z"
    },
    "id": "XHjdnB5RnWSJ",
    "outputId": "2f4479b5-c063-442b-dd25-8732f8d89b24"
   },
   "outputs": [
    {
     "name": "stdout",
     "output_type": "stream",
     "text": [
      "Fold 0:\n"
     ]
    },
    {
     "name": "stderr",
     "output_type": "stream",
     "text": [
      "/usr/local/lib/python3.9/dist-packages/sklearn/metrics/_classification.py:1334: UndefinedMetricWarning: Precision and F-score are ill-defined and being set to 0.0 in labels with no predicted samples. Use `zero_division` parameter to control this behavior.\n",
      "  _warn_prf(average, modifier, msg_start, len(result))\n",
      "/usr/local/lib/python3.9/dist-packages/sklearn/metrics/_classification.py:1334: UndefinedMetricWarning: Precision and F-score are ill-defined and being set to 0.0 in labels with no predicted samples. Use `zero_division` parameter to control this behavior.\n",
      "  _warn_prf(average, modifier, msg_start, len(result))\n",
      "/usr/local/lib/python3.9/dist-packages/sklearn/metrics/_classification.py:1334: UndefinedMetricWarning: Precision and F-score are ill-defined and being set to 0.0 in labels with no predicted samples. Use `zero_division` parameter to control this behavior.\n",
      "  _warn_prf(average, modifier, msg_start, len(result))\n"
     ]
    },
    {
     "name": "stdout",
     "output_type": "stream",
     "text": [
      "              precision    recall  f1-score   support\n",
      "\n",
      "        HALV       0.00      0.00      0.00      3093\n",
      "        LAHV       0.72      1.00      0.84      9445\n",
      "        LALV       0.00      0.00      0.00       584\n",
      "\n",
      "    accuracy                           0.72     13122\n",
      "   macro avg       0.24      0.33      0.28     13122\n",
      "weighted avg       0.52      0.72      0.60     13122\n",
      "\n",
      "Fold 1:\n"
     ]
    },
    {
     "name": "stderr",
     "output_type": "stream",
     "text": [
      "/usr/local/lib/python3.9/dist-packages/sklearn/metrics/_classification.py:1334: UndefinedMetricWarning: Precision and F-score are ill-defined and being set to 0.0 in labels with no predicted samples. Use `zero_division` parameter to control this behavior.\n",
      "  _warn_prf(average, modifier, msg_start, len(result))\n",
      "/usr/local/lib/python3.9/dist-packages/sklearn/metrics/_classification.py:1334: UndefinedMetricWarning: Precision and F-score are ill-defined and being set to 0.0 in labels with no predicted samples. Use `zero_division` parameter to control this behavior.\n",
      "  _warn_prf(average, modifier, msg_start, len(result))\n",
      "/usr/local/lib/python3.9/dist-packages/sklearn/metrics/_classification.py:1334: UndefinedMetricWarning: Precision and F-score are ill-defined and being set to 0.0 in labels with no predicted samples. Use `zero_division` parameter to control this behavior.\n",
      "  _warn_prf(average, modifier, msg_start, len(result))\n"
     ]
    },
    {
     "name": "stdout",
     "output_type": "stream",
     "text": [
      "              precision    recall  f1-score   support\n",
      "\n",
      "        HAHV       1.00      0.01      0.02      3014\n",
      "        HALV       0.00      0.00      0.00       980\n",
      "        LAHV       0.69      1.00      0.82      8942\n",
      "\n",
      "    accuracy                           0.69     12936\n",
      "   macro avg       0.56      0.34      0.28     12936\n",
      "weighted avg       0.71      0.69      0.57     12936\n",
      "\n",
      "Fold 2:\n"
     ]
    },
    {
     "name": "stderr",
     "output_type": "stream",
     "text": [
      "/usr/local/lib/python3.9/dist-packages/sklearn/metrics/_classification.py:1334: UndefinedMetricWarning: Precision and F-score are ill-defined and being set to 0.0 in labels with no predicted samples. Use `zero_division` parameter to control this behavior.\n",
      "  _warn_prf(average, modifier, msg_start, len(result))\n",
      "/usr/local/lib/python3.9/dist-packages/sklearn/metrics/_classification.py:1334: UndefinedMetricWarning: Precision and F-score are ill-defined and being set to 0.0 in labels with no predicted samples. Use `zero_division` parameter to control this behavior.\n",
      "  _warn_prf(average, modifier, msg_start, len(result))\n",
      "/usr/local/lib/python3.9/dist-packages/sklearn/metrics/_classification.py:1334: UndefinedMetricWarning: Precision and F-score are ill-defined and being set to 0.0 in labels with no predicted samples. Use `zero_division` parameter to control this behavior.\n",
      "  _warn_prf(average, modifier, msg_start, len(result))\n"
     ]
    },
    {
     "name": "stdout",
     "output_type": "stream",
     "text": [
      "              precision    recall  f1-score   support\n",
      "\n",
      "        HAHV       0.00      0.00      0.00      3128\n",
      "        HALV       0.00      0.00      0.00       988\n",
      "        LAHV       0.68      1.00      0.81      8675\n",
      "\n",
      "    accuracy                           0.68     12791\n",
      "   macro avg       0.23      0.33      0.27     12791\n",
      "weighted avg       0.46      0.68      0.55     12791\n",
      "\n",
      "Fold 3:\n"
     ]
    },
    {
     "name": "stderr",
     "output_type": "stream",
     "text": [
      "/usr/local/lib/python3.9/dist-packages/sklearn/metrics/_classification.py:1334: UndefinedMetricWarning: Precision and F-score are ill-defined and being set to 0.0 in labels with no predicted samples. Use `zero_division` parameter to control this behavior.\n",
      "  _warn_prf(average, modifier, msg_start, len(result))\n",
      "/usr/local/lib/python3.9/dist-packages/sklearn/metrics/_classification.py:1334: UndefinedMetricWarning: Precision and F-score are ill-defined and being set to 0.0 in labels with no predicted samples. Use `zero_division` parameter to control this behavior.\n",
      "  _warn_prf(average, modifier, msg_start, len(result))\n",
      "/usr/local/lib/python3.9/dist-packages/sklearn/metrics/_classification.py:1334: UndefinedMetricWarning: Precision and F-score are ill-defined and being set to 0.0 in labels with no predicted samples. Use `zero_division` parameter to control this behavior.\n",
      "  _warn_prf(average, modifier, msg_start, len(result))\n"
     ]
    },
    {
     "name": "stdout",
     "output_type": "stream",
     "text": [
      "              precision    recall  f1-score   support\n",
      "\n",
      "        HAHV       0.00      0.00      0.00       928\n",
      "        HALV       0.00      0.00      0.00      2548\n",
      "        LAHV       0.73      1.00      0.84      9421\n",
      "\n",
      "    accuracy                           0.73     12897\n",
      "   macro avg       0.24      0.33      0.28     12897\n",
      "weighted avg       0.53      0.73      0.62     12897\n",
      "\n",
      "Fold 4:\n",
      "              precision    recall  f1-score   support\n",
      "\n",
      "        HAHV       0.16      0.26      0.19       924\n",
      "        HALV       0.00      0.00      0.00         0\n",
      "        LAHV       0.98      0.58      0.73     11699\n",
      "\n",
      "    accuracy                           0.55     12623\n",
      "   macro avg       0.38      0.28      0.31     12623\n",
      "weighted avg       0.92      0.55      0.69     12623\n",
      "\n"
     ]
    },
    {
     "name": "stderr",
     "output_type": "stream",
     "text": [
      "/usr/local/lib/python3.9/dist-packages/sklearn/metrics/_classification.py:1334: UndefinedMetricWarning: Recall and F-score are ill-defined and being set to 0.0 in labels with no true samples. Use `zero_division` parameter to control this behavior.\n",
      "  _warn_prf(average, modifier, msg_start, len(result))\n",
      "/usr/local/lib/python3.9/dist-packages/sklearn/metrics/_classification.py:1334: UndefinedMetricWarning: Recall and F-score are ill-defined and being set to 0.0 in labels with no true samples. Use `zero_division` parameter to control this behavior.\n",
      "  _warn_prf(average, modifier, msg_start, len(result))\n",
      "/usr/local/lib/python3.9/dist-packages/sklearn/metrics/_classification.py:1334: UndefinedMetricWarning: Recall and F-score are ill-defined and being set to 0.0 in labels with no true samples. Use `zero_division` parameter to control this behavior.\n",
      "  _warn_prf(average, modifier, msg_start, len(result))\n"
     ]
    }
   ],
   "source": [
    "from sklearn.model_selection import KFold\n",
    "from sklearn.metrics import confusion_matrix,classification_report\n",
    "from sklearn.multiclass import OneVsRestClassifier\n",
    "from sklearn.svm import SVC\n",
    "from sklearn import preprocessing\n",
    "kf = KFold(n_splits=5)\n",
    "#file_list_num\n",
    "for i, (train_index, test_index) in enumerate(kf.split(file_list_num)):\n",
    "    print(f\"Fold {i}:\")\n",
    "    #print(f\"  Train: index={train_index}\")\n",
    "    #print(f\"  Test:  index={test_index}\")\n",
    "    train_db_x = []\n",
    "    train_db_y = []\n",
    "    test_db_x = []\n",
    "    test_db_y = []\n",
    "    for tr in train_index:\n",
    "        train_db_x.append(data_db[files_list[tr]][0])\n",
    "        train_db_y.append(data_db[files_list[tr]][1])\n",
    "    for tr in test_index:\n",
    "      test_db_x.append(data_db[files_list[tr]][0])\n",
    "      test_db_y.append(data_db[files_list[tr]][1])\n",
    "\n",
    "    train_X = np.concatenate(train_db_x)\n",
    "    train_Y = np.concatenate(train_db_y)\n",
    "    test_X = np.concatenate(test_db_x)\n",
    "    test_Y = np.concatenate(test_db_y)\n",
    "    label_encoder = preprocessing.LabelEncoder()\n",
    "    train_Yi= label_encoder.fit_transform(train_Y)\n",
    "    test_Yi= label_encoder.fit_transform(test_Y)\n",
    "\n",
    "    m = OneVsRestClassifier(SVC()).fit(train_X.reshape(-1,1), train_Y.reshape(-1,1))\n",
    "    predict_Y = m.predict(test_X.reshape(-1,1))\n",
    "    print(classification_report(test_Y.reshape(-1,1),predict_Y))\n",
    "\n",
    "\n",
    "\n"
   ]
  },
  {
   "cell_type": "code",
   "execution_count": null,
   "metadata": {
    "id": "xP5xYbDAp2pe"
   },
   "outputs": [],
   "source": []
  }
 ],
 "metadata": {
  "colab": {
   "provenance": []
  },
  "kernelspec": {
   "display_name": "Python 3 (ipykernel)",
   "language": "python",
   "name": "python3"
  },
  "language_info": {
   "codemirror_mode": {
    "name": "ipython",
    "version": 3
   },
   "file_extension": ".py",
   "mimetype": "text/x-python",
   "name": "python",
   "nbconvert_exporter": "python",
   "pygments_lexer": "ipython3",
   "version": "3.9.16"
  }
 },
 "nbformat": 4,
 "nbformat_minor": 4
}
