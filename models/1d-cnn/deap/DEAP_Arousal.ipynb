{
  "cells": [
    {
      "cell_type": "code",
      "execution_count": 1,
      "id": "Knpujonl1Oc3",
      "metadata": {
        "colab": {
          "base_uri": "https://localhost:8080/"
        },
        "id": "Knpujonl1Oc3",
        "outputId": "031c1930-1550-4259-d318-d01a4ad677cd"
      },
      "outputs": [
        {
          "name": "stdout",
          "output_type": "stream",
          "text": [
            "/usr/local/lib/python3.10/dist-packages/gdown/cli.py:121: FutureWarning: Option `--id` was deprecated in version 4.3.1 and will be removed in 5.0. You don't need to pass it anymore to use a file ID.\n",
            "  warnings.warn(\n",
            "Downloading...\n",
            "From: https://drive.google.com/uc?id=1_--Ku9Ejld0BsovvT0SZ5AReZ1_93NFz\n",
            "To: /content/DEAP.zip\n",
            "100% 2.92G/2.92G [00:31<00:00, 92.9MB/s]\n"
          ]
        }
      ],
      "source": [
        "!gdown --id 1_--Ku9Ejld0BsovvT0SZ5AReZ1_93NFz"
      ]
    },
    {
      "cell_type": "code",
      "execution_count": 2,
      "id": "7a963fcc-c42b-4c44-b83b-2b348d676979",
      "metadata": {
        "colab": {
          "base_uri": "https://localhost:8080/"
        },
        "id": "7a963fcc-c42b-4c44-b83b-2b348d676979",
        "outputId": "8bd1e9e4-68cc-4fba-af3b-5bfcc76c88b8",
        "tags": []
      },
      "outputs": [
        {
          "name": "stdout",
          "output_type": "stream",
          "text": [
            "Archive:  DEAP.zip\n",
            "   creating: DEAP/\n",
            "  inflating: DEAP/s01.dat            \n",
            "  inflating: DEAP/s02.dat            \n",
            "  inflating: DEAP/s03.dat            \n",
            "  inflating: DEAP/s04.dat            \n",
            "  inflating: DEAP/s05.dat            \n",
            "  inflating: DEAP/s06.dat            \n",
            "  inflating: DEAP/s07.dat            \n",
            "  inflating: DEAP/s08.dat            \n",
            "  inflating: DEAP/s09.dat            \n",
            "  inflating: DEAP/s10.dat            \n",
            "  inflating: DEAP/s11.dat            \n",
            "  inflating: DEAP/s12.dat            \n",
            "  inflating: DEAP/s13.dat            \n",
            "  inflating: DEAP/s14.dat            \n",
            "  inflating: DEAP/s15.dat            \n",
            "  inflating: DEAP/s16.dat            \n",
            "  inflating: DEAP/s17.dat            \n",
            "  inflating: DEAP/s18.dat            \n",
            "  inflating: DEAP/s19.dat            \n",
            "  inflating: DEAP/s20.dat            \n",
            "  inflating: DEAP/s21.dat            \n",
            "  inflating: DEAP/s22.dat            \n",
            "  inflating: DEAP/s23.dat            \n",
            "  inflating: DEAP/s24.dat            \n",
            "  inflating: DEAP/s25.dat            \n",
            "  inflating: DEAP/s26.dat            \n",
            "  inflating: DEAP/s27.dat            \n",
            "  inflating: DEAP/s28.dat            \n",
            "  inflating: DEAP/s29.dat            \n",
            "  inflating: DEAP/s30.dat            \n",
            "  inflating: DEAP/s31.dat            \n",
            "  inflating: DEAP/s32.dat            \n"
          ]
        }
      ],
      "source": [
        "!unzip DEAP.zip"
      ]
    },
    {
      "cell_type": "code",
      "execution_count": 1,
      "id": "81e9e46f-88cc-4ba9-a64f-347034bea365",
      "metadata": {
        "colab": {
          "base_uri": "https://localhost:8080/"
        },
        "id": "81e9e46f-88cc-4ba9-a64f-347034bea365",
        "outputId": "05d842d9-efbf-4578-aed4-cf262d5afea2",
        "tags": []
      },
      "outputs": [
        {
          "name": "stdout",
          "output_type": "stream",
          "text": [
            "['DEAP/s18.dat', 'DEAP/s26.dat', 'DEAP/s01.dat', 'DEAP/s12.dat', 'DEAP/s29.dat', 'DEAP/s04.dat', 'DEAP/s06.dat', 'DEAP/s31.dat', 'DEAP/s17.dat', 'DEAP/s13.dat', 'DEAP/s30.dat', 'DEAP/s21.dat', 'DEAP/s27.dat', 'DEAP/s05.dat', 'DEAP/s24.dat', 'DEAP/s11.dat', 'DEAP/s10.dat', 'DEAP/s25.dat', 'DEAP/s14.dat', 'DEAP/s02.dat', 'DEAP/s15.dat', 'DEAP/s08.dat', 'DEAP/s23.dat', 'DEAP/s16.dat', 'DEAP/s20.dat', 'DEAP/s22.dat', 'DEAP/s09.dat', 'DEAP/s32.dat', 'DEAP/s19.dat', 'DEAP/s07.dat', 'DEAP/s28.dat', 'DEAP/s03.dat']\n",
            "['s18', 's26', 's01', 's12', 's29', 's04', 's06', 's31', 's17', 's13', 's30', 's21', 's27', 's05', 's24', 's11', 's10', 's25', 's14', 's02', 's15', 's08', 's23', 's16', 's20', 's22', 's09', 's32', 's19', 's07', 's28', 's03']\n"
          ]
        }
      ],
      "source": [
        "import glob\n",
        "import os\n",
        "filelist = glob.glob('DEAP/*.dat')\n",
        "print(filelist)\n",
        "subjectnames = [fr[5:8] for fr in filelist]\n",
        "print(subjectnames)"
      ]
    },
    {
      "cell_type": "code",
      "execution_count": 2,
      "id": "74fe1cd7-c31d-44dd-8537-27f357d17096",
      "metadata": {
        "colab": {
          "base_uri": "https://localhost:8080/"
        },
        "id": "74fe1cd7-c31d-44dd-8537-27f357d17096",
        "outputId": "6e0aa59e-bf03-43c3-8d57-82cd219cf350",
        "tags": []
      },
      "outputs": [
        {
          "name": "stdout",
          "output_type": "stream",
          "text": [
            "dict_keys(['s18', 's26', 's01', 's12', 's29', 's04', 's06', 's31', 's17', 's13', 's30', 's21', 's27', 's05', 's24', 's11', 's10', 's25', 's14', 's02', 's15', 's08', 's23', 's16', 's20', 's22', 's09', 's32', 's19', 's07', 's28', 's03'])\n"
          ]
        }
      ],
      "source": [
        "import pickle\n",
        "data = {}\n",
        "for sname in subjectnames:\n",
        "    dname = \"DEAP/\"+sname+\".dat\"\n",
        "    f = open(dname, 'rb')\n",
        "    x = pickle.load(f, encoding='latin1')\n",
        "    data[sname] = x\n",
        "print(data.keys())"
      ]
    },
    {
      "cell_type": "code",
      "execution_count": 3,
      "id": "8976cde3-bc3f-4fcb-a8af-d624fcde1675",
      "metadata": {
        "id": "8976cde3-bc3f-4fcb-a8af-d624fcde1675",
        "tags": []
      },
      "outputs": [],
      "source": [
        "import numpy as np\n",
        "data_c = {}\n",
        "for k,v in data.items():\n",
        "    y = data[k]['data'][:,36,:]\n",
        "    ym = np.mean(y,axis=-1).reshape(40,1)\n",
        "    ystd = np.std(y,axis=-1).reshape(40,1)\n",
        "    z = (y-ym)/ystd\n",
        "    data_c[k] = [z,data[k]['labels']]"
      ]
    },
    {
      "cell_type": "code",
      "execution_count": 6,
      "id": "9aedd082-f9d1-4a53-a0dc-53d7600edce2",
      "metadata": {
        "colab": {
          "base_uri": "https://localhost:8080/"
        },
        "id": "9aedd082-f9d1-4a53-a0dc-53d7600edce2",
        "outputId": "7f4f7f33-f664-465f-e06c-ca91364df83b",
        "tags": []
      },
      "outputs": [
        {
          "name": "stdout",
          "output_type": "stream",
          "text": [
            "Cloning into 'pyEDA'...\n",
            "remote: Enumerating objects: 290, done.\u001b[K\n",
            "remote: Counting objects: 100% (290/290), done.\u001b[K\n",
            "remote: Compressing objects: 100% (198/198), done.\u001b[K\n",
            "remote: Total 290 (delta 151), reused 203 (delta 87), pack-reused 0\u001b[K\n",
            "Receiving objects: 100% (290/290), 11.30 MiB | 26.55 MiB/s, done.\n",
            "Resolving deltas: 100% (151/151), done.\n"
          ]
        }
      ],
      "source": [
        "#!git clone https://github.com/HealthSciTech/pyEDA.git"
      ]
    },
    {
      "cell_type": "code",
      "execution_count": 4,
      "id": "2e72fc86-d974-48f9-b3ec-5fcd025e43dc",
      "metadata": {
        "colab": {
          "base_uri": "https://localhost:8080/"
        },
        "id": "2e72fc86-d974-48f9-b3ec-5fcd025e43dc",
        "outputId": "ce0a80c6-dd15-467b-e498-8902a32fa212",
        "tags": []
      },
      "outputs": [
        {
          "name": "stdout",
          "output_type": "stream",
          "text": [
            "Requirement already satisfied: cvxopt in /usr/local/lib/python3.10/dist-packages (1.3.2)\n"
          ]
        }
      ],
      "source": [
        "#!pip install cvxopt"
      ]
    },
    {
      "cell_type": "code",
      "execution_count": 5,
      "id": "cb4f671b-ccc3-498a-8f8a-691a163bb09f",
      "metadata": {
        "id": "cb4f671b-ccc3-498a-8f8a-691a163bb09f",
        "tags": []
      },
      "outputs": [],
      "source": [
        "from pyEDA.main import *\n",
        "from scipy.stats import skew\n",
        "from scipy.stats import kurtosis\n",
        "import os,sys\n",
        "\n",
        "\n",
        "data_c1 = {}\n",
        "for k,v in data_c.items():\n",
        "    y = data_c[k][0]\n",
        "    data_c1[k] = y\n"
      ]
    },
    {
      "cell_type": "code",
      "execution_count": 6,
      "id": "32ee014d-7489-4f32-a991-7eea33d93911",
      "metadata": {
        "colab": {
          "base_uri": "https://localhost:8080/"
        },
        "id": "32ee014d-7489-4f32-a991-7eea33d93911",
        "outputId": "56536df0-437f-47a4-cefe-8c9b054a43e3",
        "tags": []
      },
      "outputs": [
        {
          "name": "stdout",
          "output_type": "stream",
          "text": [
            "torch.Size([119, 1, 512])\n"
          ]
        }
      ],
      "source": [
        "data_c1p = {}\n",
        "BLOCK_SIZE=512\n",
        "BLOCK_STRIDE=64\n",
        "for k,v in data_c1.items():\n",
        "    datablocki = []\n",
        "    for i in range(40):\n",
        "        sh = (v[i].size - BLOCK_SIZE + 1, BLOCK_SIZE)\n",
        "        st = v[i].strides * 2\n",
        "        view = np.lib.stride_tricks.as_strided(v[i], strides = st, shape = sh)[0::BLOCK_STRIDE]\n",
        "        data0_0 = view.copy()\n",
        "        data0_0 = data0_0[np.newaxis,:,:]\n",
        "        data0_0 = data0_0.reshape(-1,1,512)\n",
        "        datablocki.append(torch.tensor(data0_0))\n",
        "    data_c1p[k] = datablocki\n",
        "print(data_c1p['s01'][0].shape)"
      ]
    },
    {
      "cell_type": "code",
      "execution_count": 7,
      "id": "ce1ed7be-a882-45ec-810d-6b1c43af0af3",
      "metadata": {
        "id": "ce1ed7be-a882-45ec-810d-6b1c43af0af3",
        "tags": []
      },
      "outputs": [],
      "source": [
        "data_c2 = {}\n",
        "for k,v in data_c.items():\n",
        "    y = data_c[k][1]\n",
        "    x_label = np.zeros((y.shape[0]),dtype='int8')\n",
        "    for i in range(y.shape[0]):\n",
        "        if (y[i][0] > 5 and y[i][1] > 5):\n",
        "            x_label[i] = 3\n",
        "        elif (y[i][0] <= 5 and y[i][1] > 5):\n",
        "            x_label[i] = 3\n",
        "        elif (y[i][0] > 5 and y[i][1] <= 5):\n",
        "            x_label[i] = 0\n",
        "        elif (y[i][0] <= 5 and y[i][1] <= 5):\n",
        "            x_label[i] = 0\n",
        "    x_l = np.zeros((x_label.size, x_label.max()+1))\n",
        "    x_l[np.arange(x_label.size), x_label] = 1\n",
        "    #\n",
        "    #print(x_l.shape)\n",
        "    x_l = x_l.reshape(-1,1,4)\n",
        "    x_l = np.repeat(x_l, 119, axis=1)\n",
        "    #print(x_l.shape)\n",
        "    x_l = torch.tensor(x_l)\n",
        "    data_c2[k] = x_l"
      ]
    },
    {
      "cell_type": "code",
      "execution_count": 8,
      "id": "b7492634-9804-4931-a9aa-9a50724b4cdc",
      "metadata": {
        "colab": {
          "base_uri": "https://localhost:8080/"
        },
        "id": "b7492634-9804-4931-a9aa-9a50724b4cdc",
        "outputId": "16e884e0-9882-4f1e-ce5d-9e867045776d",
        "tags": []
      },
      "outputs": [
        {
          "name": "stdout",
          "output_type": "stream",
          "text": [
            "torch.Size([40, 119, 4])\n"
          ]
        }
      ],
      "source": [
        "print(data_c2['s01'].shape)"
      ]
    },
    {
      "cell_type": "code",
      "execution_count": 10,
      "id": "48a74ab5-e71d-441a-b786-630c4abc3685",
      "metadata": {
        "id": "48a74ab5-e71d-441a-b786-630c4abc3685",
        "tags": []
      },
      "outputs": [],
      "source": [
        "import torch\n",
        "import torch.nn as nn\n",
        "import torch.nn.functional as F\n",
        "import torch.optim as optim\n",
        "\n",
        "device = torch.device('cuda:0' if torch.cuda.is_available() else 'cpu')\n",
        "class Net(nn.Module):\n",
        "    def __init__(self):\n",
        "        super().__init__()\n",
        "        self.c1=nn.Conv1d(1, 24, 5,stride=3)\n",
        "        self.norm1 = nn.BatchNorm1d(24)\n",
        "        self.c2=nn.Conv1d(24, 16, 3,stride=2)\n",
        "        self.norm2 = nn.BatchNorm1d(16)\n",
        "        self.c3=nn.Conv1d(16, 8, 3,stride=2)\n",
        "        self.norm3 = nn.BatchNorm1d(8)\n",
        "        self.ft = nn.Flatten()\n",
        "        self.n1 = nn.Linear(328,20)\n",
        "        self.d = nn.Dropout()\n",
        "        self.n2 = nn.Linear(20,4)\n",
        "\n",
        "\n",
        "    def forward(self, x):\n",
        "        x = F.relu(self.norm1(self.c1(x)))\n",
        "        x = F.relu(self.norm2(self.c2(x)))\n",
        "        x = F.relu(self.norm3(self.c3(x)))\n",
        "\n",
        "        x = self.ft(x)\n",
        "        x = self.d(F.relu(self.n1(x)))\n",
        "        x = F.softmax(self.n2(x),dim=-1)\n",
        "        return x\n",
        "\n",
        "\n",
        "criterion = nn.CrossEntropyLoss()\n"
      ]
    },
    {
      "cell_type": "code",
      "execution_count": null,
      "id": "624818a4-e9ca-4f32-9930-8ade33ca95df",
      "metadata": {
        "colab": {
          "base_uri": "https://localhost:8080/"
        },
        "id": "624818a4-e9ca-4f32-9930-8ade33ca95df",
        "outputId": "1acd7403-931c-48da-eeaa-c63d43ad4676",
        "tags": []
      },
      "outputs": [
        {
          "name": "stdout",
          "output_type": "stream",
          "text": [
            "Fold 0:\n",
            "  Train: index=[ 4  5  6  7  8  9 10 11 12 13 14 15 16 17 18 19 20 21 22 23 24 25 26 27\n",
            " 28 29 30 31]\n",
            "  Test:  index=[0 1 2 3]\n",
            "              precision    recall  f1-score   support\n",
            "\n",
            "           0       1.00      0.03      0.06        63\n",
            "           3       0.61      1.00      0.76        97\n",
            "\n",
            "    accuracy                           0.62       160\n",
            "   macro avg       0.81      0.52      0.41       160\n",
            "weighted avg       0.77      0.62      0.49       160\n",
            "\n",
            "Validation Loss for s12 = 1.1454256795565871\n",
            "Fold 1:\n",
            "  Train: index=[ 0  1  2  3  8  9 10 11 12 13 14 15 16 17 18 19 20 21 22 23 24 25 26 27\n",
            " 28 29 30 31]\n",
            "  Test:  index=[4 5 6 7]\n"
          ]
        }
      ],
      "source": [
        "from sklearn.model_selection import KFold\n",
        "from sklearn.metrics import confusion_matrix,classification_report\n",
        "from sklearn import preprocessing\n",
        "#subjectnames\n",
        "file_list_num = np.arange(len(subjectnames))\n",
        "kf = KFold(n_splits=8)\n",
        "#file_list_num\n",
        "for i, (train_index, test_index) in enumerate(kf.split(file_list_num)):\n",
        "    print(f\"Fold {i}:\")\n",
        "    print(f\"  Train: index={train_index}\")\n",
        "    print(f\"  Test:  index={test_index}\")\n",
        "    net = Net()\n",
        "    net.to(device)\n",
        "    optimizer = optim.Adam(net.parameters(), lr=0.00001,betas=(0.9,0.999))\n",
        "    epochs = 500\n",
        "    for epoch in range(epochs):\n",
        "        for tr in train_index:\n",
        "            v = data_c1p[subjectnames[tr]]\n",
        "            l = data_c2[subjectnames[tr]]\n",
        "            net.train()\n",
        "            for i in range(len(v)):\n",
        "                optimizer.zero_grad()\n",
        "                outputs = net(v[i].to(device, dtype=torch.float))\n",
        "                loss = criterion(outputs, l[i].to(device))\n",
        "                loss.backward()\n",
        "                optimizer.step()\n",
        "            #print(f'Epoch {epoch + 1}/{epochs}, Loss: {loss.item()}')\n",
        "    val_loss = []\n",
        "    expectedoutput = []\n",
        "    actualoutput = []\n",
        "    for tr in test_index:\n",
        "        net.eval()\n",
        "        v = data_c1p[subjectnames[tr]]\n",
        "        l = data_c2[subjectnames[tr]]\n",
        "        with torch.no_grad():\n",
        "            for i in range(len(v)):\n",
        "                outputs = net(v[i].to(device, dtype=torch.float))\n",
        "                loss = criterion(outputs, l[i].to(device))\n",
        "                val_loss.append(loss)\n",
        "                output1 = torch.argmax(l[i],dim=1)\n",
        "                aoutput1 = torch.argmax(outputs.cpu(),dim=1)\n",
        "                expectedoutput.append(torch.mode(output1).values.numpy())\n",
        "                actualoutput.append(torch.mode(aoutput1).values.numpy())\n",
        "    val_loss_mean = torch.stack(val_loss).mean()\n",
        "    print(classification_report(expectedoutput,actualoutput))\n",
        "    print(f'Validation Loss for {subjectnames[tr]} = {val_loss_mean}')"
      ]
    }
  ],
  "metadata": {
    "accelerator": "GPU",
    "colab": {
      "gpuType": "T4",
      "provenance": []
    },
    "kernelspec": {
      "display_name": "Python 3",
      "name": "python3"
    },
    "language_info": {
      "codemirror_mode": {
        "name": "ipython",
        "version": 3
      },
      "file_extension": ".py",
      "mimetype": "text/x-python",
      "name": "python",
      "nbconvert_exporter": "python",
      "pygments_lexer": "ipython3",
      "version": "3.10.12"
    }
  },
  "nbformat": 4,
  "nbformat_minor": 5
}
